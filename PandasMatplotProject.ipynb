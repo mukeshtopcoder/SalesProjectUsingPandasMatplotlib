{
 "cells": [
  {
   "cell_type": "code",
   "execution_count": 1,
   "id": "cd6a8051-58a7-462a-92b2-33b99a3dc357",
   "metadata": {},
   "outputs": [],
   "source": [
    "# A PROJECT REPORT ON SALES\n",
    "import pandas as pd\n",
    "import matplotlib.pyplot as plt"
   ]
  },
  {
   "cell_type": "code",
   "execution_count": 6,
   "id": "7b4c33af-d559-42ff-8b27-a1f1b4e62a20",
   "metadata": {},
   "outputs": [
    {
     "data": {
      "text/html": [
       "<div>\n",
       "<style scoped>\n",
       "    .dataframe tbody tr th:only-of-type {\n",
       "        vertical-align: middle;\n",
       "    }\n",
       "\n",
       "    .dataframe tbody tr th {\n",
       "        vertical-align: top;\n",
       "    }\n",
       "\n",
       "    .dataframe thead th {\n",
       "        text-align: right;\n",
       "    }\n",
       "</style>\n",
       "<table border=\"1\" class=\"dataframe\">\n",
       "  <thead>\n",
       "    <tr style=\"text-align: right;\">\n",
       "      <th></th>\n",
       "      <th>Segment</th>\n",
       "      <th>Country</th>\n",
       "      <th>Product</th>\n",
       "      <th>Discount Band</th>\n",
       "      <th>Units Sold</th>\n",
       "      <th>Manufacturing Price</th>\n",
       "      <th>Sale Price</th>\n",
       "      <th>Gross Sales</th>\n",
       "      <th>Discounts</th>\n",
       "      <th>Sales</th>\n",
       "      <th>COGS</th>\n",
       "      <th>Profit</th>\n",
       "      <th>Date</th>\n",
       "      <th>Month Number</th>\n",
       "      <th>Month Name</th>\n",
       "      <th>Year</th>\n",
       "    </tr>\n",
       "  </thead>\n",
       "  <tbody>\n",
       "    <tr>\n",
       "      <th>0</th>\n",
       "      <td>Government</td>\n",
       "      <td>Canada</td>\n",
       "      <td>Carretera</td>\n",
       "      <td>NaN</td>\n",
       "      <td>1618.5</td>\n",
       "      <td>3</td>\n",
       "      <td>20.0</td>\n",
       "      <td>32370.0</td>\n",
       "      <td>0.0</td>\n",
       "      <td>32370.0</td>\n",
       "      <td>16185.0</td>\n",
       "      <td>16185.0</td>\n",
       "      <td>2014-01-01</td>\n",
       "      <td>1</td>\n",
       "      <td>January</td>\n",
       "      <td>2014</td>\n",
       "    </tr>\n",
       "    <tr>\n",
       "      <th>1</th>\n",
       "      <td>Government</td>\n",
       "      <td>Germany</td>\n",
       "      <td>Carretera</td>\n",
       "      <td>NaN</td>\n",
       "      <td>1321.0</td>\n",
       "      <td>3</td>\n",
       "      <td>20.0</td>\n",
       "      <td>26420.0</td>\n",
       "      <td>0.0</td>\n",
       "      <td>26420.0</td>\n",
       "      <td>13210.0</td>\n",
       "      <td>13210.0</td>\n",
       "      <td>2014-01-01</td>\n",
       "      <td>1</td>\n",
       "      <td>January</td>\n",
       "      <td>2014</td>\n",
       "    </tr>\n",
       "    <tr>\n",
       "      <th>2</th>\n",
       "      <td>Midmarket</td>\n",
       "      <td>France</td>\n",
       "      <td>Carretera</td>\n",
       "      <td>NaN</td>\n",
       "      <td>2178.0</td>\n",
       "      <td>3</td>\n",
       "      <td>15.0</td>\n",
       "      <td>32670.0</td>\n",
       "      <td>0.0</td>\n",
       "      <td>32670.0</td>\n",
       "      <td>21780.0</td>\n",
       "      <td>10890.0</td>\n",
       "      <td>2014-06-01</td>\n",
       "      <td>6</td>\n",
       "      <td>June</td>\n",
       "      <td>2014</td>\n",
       "    </tr>\n",
       "  </tbody>\n",
       "</table>\n",
       "</div>"
      ],
      "text/plain": [
       "      Segment  Country    Product Discount Band  Units Sold  \\\n",
       "0  Government   Canada  Carretera           NaN      1618.5   \n",
       "1  Government  Germany  Carretera           NaN      1321.0   \n",
       "2   Midmarket   France  Carretera           NaN      2178.0   \n",
       "\n",
       "   Manufacturing Price  Sale Price  Gross Sales  Discounts    Sales     COGS  \\\n",
       "0                    3        20.0      32370.0        0.0  32370.0  16185.0   \n",
       "1                    3        20.0      26420.0        0.0  26420.0  13210.0   \n",
       "2                    3        15.0      32670.0        0.0  32670.0  21780.0   \n",
       "\n",
       "    Profit       Date  Month Number Month Name  Year  \n",
       "0  16185.0 2014-01-01             1    January  2014  \n",
       "1  13210.0 2014-01-01             1    January  2014  \n",
       "2  10890.0 2014-06-01             6       June  2014  "
      ]
     },
     "execution_count": 6,
     "metadata": {},
     "output_type": "execute_result"
    }
   ],
   "source": [
    "df = pd.read_excel(\"c:/users/THIS/Downloads/Financial_Sample.xlsx\")\n",
    "df.head(3)"
   ]
  },
  {
   "cell_type": "code",
   "execution_count": 3,
   "id": "344b03c0-1c9f-4f50-9415-b5688911748b",
   "metadata": {},
   "outputs": [
    {
     "name": "stdout",
     "output_type": "stream",
     "text": [
      "<class 'pandas.core.frame.DataFrame'>\n",
      "RangeIndex: 700 entries, 0 to 699\n",
      "Data columns (total 16 columns):\n",
      " #   Column               Non-Null Count  Dtype         \n",
      "---  ------               --------------  -----         \n",
      " 0   Segment              692 non-null    object        \n",
      " 1   Country              689 non-null    object        \n",
      " 2   Product              692 non-null    object        \n",
      " 3   Discount Band        638 non-null    object        \n",
      " 4   Units Sold           695 non-null    float64       \n",
      " 5   Manufacturing Price  700 non-null    int64         \n",
      " 6   Sale Price           693 non-null    float64       \n",
      " 7   Gross Sales          695 non-null    float64       \n",
      " 8   Discounts            695 non-null    float64       \n",
      " 9    Sales               700 non-null    float64       \n",
      " 10  COGS                 700 non-null    float64       \n",
      " 11  Profit               700 non-null    float64       \n",
      " 12  Date                 700 non-null    datetime64[ns]\n",
      " 13  Month Number         700 non-null    int64         \n",
      " 14  Month Name           700 non-null    object        \n",
      " 15  Year                 700 non-null    int64         \n",
      "dtypes: datetime64[ns](1), float64(7), int64(3), object(5)\n",
      "memory usage: 87.6+ KB\n"
     ]
    }
   ],
   "source": [
    "df.info()"
   ]
  },
  {
   "cell_type": "code",
   "execution_count": 9,
   "id": "7678508c-2438-4ca2-8ed2-09316bed5279",
   "metadata": {},
   "outputs": [
    {
     "data": {
      "text/plain": [
       "Segment                 8\n",
       "Country                11\n",
       "Product                 8\n",
       "Discount Band          62\n",
       "Units Sold              5\n",
       "Manufacturing Price     0\n",
       "Sale Price              7\n",
       "Gross Sales             5\n",
       "Discounts               5\n",
       " Sales                  0\n",
       "COGS                    0\n",
       "Profit                  0\n",
       "Date                    0\n",
       "Month Number            0\n",
       "Month Name              0\n",
       "Year                    0\n",
       "dtype: int64"
      ]
     },
     "execution_count": 9,
     "metadata": {},
     "output_type": "execute_result"
    }
   ],
   "source": [
    "df.isnull().sum()"
   ]
  },
  {
   "cell_type": "code",
   "execution_count": 16,
   "id": "3cf25938-e7d2-4b3a-baf6-3632544d0a5f",
   "metadata": {},
   "outputs": [
    {
     "data": {
      "text/plain": [
       "0.9910714285714285"
      ]
     },
     "execution_count": 16,
     "metadata": {},
     "output_type": "execute_result"
    }
   ],
   "source": [
    "#  4 Object Columns having null values\n",
    "#  4 float64 columns having null values\n",
    "df.isnull().sum().sum()/df.size*100\n",
    "# Only 1% data is null (almost)"
   ]
  },
  {
   "cell_type": "code",
   "execution_count": 23,
   "id": "949637ad-961e-4bda-a090-feed1e66414b",
   "metadata": {},
   "outputs": [
    {
     "data": {
      "text/plain": [
       "Segment           8\n",
       "Country          11\n",
       "Product           8\n",
       "Discount Band    62\n",
       "Month Name        0\n",
       "dtype: int64"
      ]
     },
     "execution_count": 23,
     "metadata": {},
     "output_type": "execute_result"
    }
   ],
   "source": [
    "df.select_dtypes(include=\"object\").isnull().sum()"
   ]
  },
  {
   "cell_type": "code",
   "execution_count": 35,
   "id": "c3f9bfbe-035a-4353-ae44-c0befe809f7d",
   "metadata": {},
   "outputs": [
    {
     "data": {
      "text/plain": [
       "Segment          0\n",
       "Country          0\n",
       "Product          0\n",
       "Discount Band    0\n",
       "Month Name       0\n",
       "dtype: int64"
      ]
     },
     "execution_count": 35,
     "metadata": {},
     "output_type": "execute_result"
    }
   ],
   "source": [
    "# Replace null values of objects by mode values\n",
    "def fillObj(obj):\n",
    "    df[obj]=df[obj].fillna(df[obj].mode()[0])\n",
    "for ob in df.select_dtypes(include=\"object\"):\n",
    "    fillObj(ob)\n",
    "df.select_dtypes(include=\"object\").isnull().sum()"
   ]
  },
  {
   "cell_type": "code",
   "execution_count": 39,
   "id": "0cdc622d-2055-4eaf-8510-a376720fb2b2",
   "metadata": {},
   "outputs": [
    {
     "data": {
      "text/plain": [
       "Units Sold     5\n",
       "Sale Price     7\n",
       "Gross Sales    5\n",
       "Discounts      5\n",
       " Sales         0\n",
       "COGS           0\n",
       "Profit         0\n",
       "dtype: int64"
      ]
     },
     "execution_count": 39,
     "metadata": {},
     "output_type": "execute_result"
    }
   ],
   "source": [
    "df.select_dtypes(include=\"float64\").isnull().sum()"
   ]
  },
  {
   "cell_type": "code",
   "execution_count": 41,
   "id": "0237a0ea-ac11-41de-9802-9bc49d08d3d7",
   "metadata": {},
   "outputs": [
    {
     "data": {
      "text/plain": [
       "Units Sold     0\n",
       "Sale Price     0\n",
       "Gross Sales    0\n",
       "Discounts      0\n",
       " Sales         0\n",
       "COGS           0\n",
       "Profit         0\n",
       "dtype: int64"
      ]
     },
     "execution_count": 41,
     "metadata": {},
     "output_type": "execute_result"
    }
   ],
   "source": [
    "# Replace null values of float64 by mean values\n",
    "def fillFloat(obj):\n",
    "    df[obj]=df[obj].fillna(df[obj].mean())\n",
    "for ob in df.select_dtypes(\"float64\"):\n",
    "    fillFloat(ob)\n",
    "df.select_dtypes(include=\"float64\").isnull().sum()"
   ]
  },
  {
   "cell_type": "code",
   "execution_count": 43,
   "id": "8d179797-7a29-4382-91ad-164efa9f999c",
   "metadata": {},
   "outputs": [
    {
     "data": {
      "text/plain": [
       "0"
      ]
     },
     "execution_count": 43,
     "metadata": {},
     "output_type": "execute_result"
    }
   ],
   "source": [
    "# Total Null Values in DataFrame\n",
    "df.isnull().sum().sum()"
   ]
  },
  {
   "cell_type": "code",
   "execution_count": 44,
   "id": "9abf19fa-41da-4481-acca-38c301dceb42",
   "metadata": {},
   "outputs": [
    {
     "data": {
      "text/html": [
       "<div>\n",
       "<style scoped>\n",
       "    .dataframe tbody tr th:only-of-type {\n",
       "        vertical-align: middle;\n",
       "    }\n",
       "\n",
       "    .dataframe tbody tr th {\n",
       "        vertical-align: top;\n",
       "    }\n",
       "\n",
       "    .dataframe thead th {\n",
       "        text-align: right;\n",
       "    }\n",
       "</style>\n",
       "<table border=\"1\" class=\"dataframe\">\n",
       "  <thead>\n",
       "    <tr style=\"text-align: right;\">\n",
       "      <th></th>\n",
       "      <th>Segment</th>\n",
       "      <th>Country</th>\n",
       "      <th>Product</th>\n",
       "      <th>Discount Band</th>\n",
       "      <th>Units Sold</th>\n",
       "      <th>Manufacturing Price</th>\n",
       "      <th>Sale Price</th>\n",
       "      <th>Gross Sales</th>\n",
       "      <th>Discounts</th>\n",
       "      <th>Sales</th>\n",
       "      <th>COGS</th>\n",
       "      <th>Profit</th>\n",
       "      <th>Date</th>\n",
       "      <th>Month Number</th>\n",
       "      <th>Month Name</th>\n",
       "      <th>Year</th>\n",
       "    </tr>\n",
       "  </thead>\n",
       "  <tbody>\n",
       "    <tr>\n",
       "      <th>0</th>\n",
       "      <td>Government</td>\n",
       "      <td>Canada</td>\n",
       "      <td>Carretera</td>\n",
       "      <td>High</td>\n",
       "      <td>1618.5</td>\n",
       "      <td>3</td>\n",
       "      <td>20.0</td>\n",
       "      <td>32370.0</td>\n",
       "      <td>0.0</td>\n",
       "      <td>32370.0</td>\n",
       "      <td>16185.0</td>\n",
       "      <td>16185.0</td>\n",
       "      <td>2014-01-01</td>\n",
       "      <td>1</td>\n",
       "      <td>January</td>\n",
       "      <td>2014</td>\n",
       "    </tr>\n",
       "    <tr>\n",
       "      <th>1</th>\n",
       "      <td>Government</td>\n",
       "      <td>Germany</td>\n",
       "      <td>Carretera</td>\n",
       "      <td>High</td>\n",
       "      <td>1321.0</td>\n",
       "      <td>3</td>\n",
       "      <td>20.0</td>\n",
       "      <td>26420.0</td>\n",
       "      <td>0.0</td>\n",
       "      <td>26420.0</td>\n",
       "      <td>13210.0</td>\n",
       "      <td>13210.0</td>\n",
       "      <td>2014-01-01</td>\n",
       "      <td>1</td>\n",
       "      <td>January</td>\n",
       "      <td>2014</td>\n",
       "    </tr>\n",
       "    <tr>\n",
       "      <th>2</th>\n",
       "      <td>Midmarket</td>\n",
       "      <td>France</td>\n",
       "      <td>Carretera</td>\n",
       "      <td>High</td>\n",
       "      <td>2178.0</td>\n",
       "      <td>3</td>\n",
       "      <td>15.0</td>\n",
       "      <td>32670.0</td>\n",
       "      <td>0.0</td>\n",
       "      <td>32670.0</td>\n",
       "      <td>21780.0</td>\n",
       "      <td>10890.0</td>\n",
       "      <td>2014-06-01</td>\n",
       "      <td>6</td>\n",
       "      <td>June</td>\n",
       "      <td>2014</td>\n",
       "    </tr>\n",
       "  </tbody>\n",
       "</table>\n",
       "</div>"
      ],
      "text/plain": [
       "      Segment  Country    Product Discount Band  Units Sold  \\\n",
       "0  Government   Canada  Carretera          High      1618.5   \n",
       "1  Government  Germany  Carretera          High      1321.0   \n",
       "2   Midmarket   France  Carretera          High      2178.0   \n",
       "\n",
       "   Manufacturing Price  Sale Price  Gross Sales  Discounts    Sales     COGS  \\\n",
       "0                    3        20.0      32370.0        0.0  32370.0  16185.0   \n",
       "1                    3        20.0      26420.0        0.0  26420.0  13210.0   \n",
       "2                    3        15.0      32670.0        0.0  32670.0  21780.0   \n",
       "\n",
       "    Profit       Date  Month Number Month Name  Year  \n",
       "0  16185.0 2014-01-01             1    January  2014  \n",
       "1  13210.0 2014-01-01             1    January  2014  \n",
       "2  10890.0 2014-06-01             6       June  2014  "
      ]
     },
     "execution_count": 44,
     "metadata": {},
     "output_type": "execute_result"
    }
   ],
   "source": [
    "df.head(3)"
   ]
  },
  {
   "cell_type": "code",
   "execution_count": 48,
   "id": "5de5e0fc-0693-4087-8ad1-712b3272d2e8",
   "metadata": {},
   "outputs": [
    {
     "data": {
      "text/plain": [
       "array(['January', 'June', 'December', 'March', 'July', 'August',\n",
       "       'September', 'October', 'February', 'November', 'April', 'May'],\n",
       "      dtype=object)"
      ]
     },
     "execution_count": 48,
     "metadata": {},
     "output_type": "execute_result"
    }
   ],
   "source": [
    "df[\"Month Name\"].unique()"
   ]
  },
  {
   "cell_type": "code",
   "execution_count": 66,
   "id": "546ee0da-b234-4389-8869-2c3ff28e9148",
   "metadata": {},
   "outputs": [
    {
     "data": {
      "text/plain": [
       "['Jan',\n",
       " 'Feb',\n",
       " 'Mar',\n",
       " 'Apr',\n",
       " 'May',\n",
       " 'Jun',\n",
       " 'Jul',\n",
       " 'Aug',\n",
       " 'Sep',\n",
       " 'Oct',\n",
       " 'Nov',\n",
       " 'Dec']"
      ]
     },
     "execution_count": 66,
     "metadata": {},
     "output_type": "execute_result"
    }
   ],
   "source": [
    "# X values for ploting\n",
    "Xmonth = ['January','February', 'March', 'April', 'May','June',  'July', 'August',\n",
    "       'September', 'October',  'November','December']\n",
    "for index in range(0,len(Xmonth)):\n",
    "    Xmonth[index]=Xmonth[index][0:3]\n",
    "Xmonth"
   ]
  },
  {
   "cell_type": "code",
   "execution_count": 77,
   "id": "7c926cba-7e38-4f52-9157-a35f9a4a1fba",
   "metadata": {},
   "outputs": [
    {
     "data": {
      "text/plain": [
       "[7463290.542446043,\n",
       " 7874444.042446043,\n",
       " 6124026.0,\n",
       " 7429392.5,\n",
       " 6767911.0,\n",
       " 10268972.0,\n",
       " 8833027.5,\n",
       " 6325959.0,\n",
       " 11575053.0,\n",
       " 23308784.042446043,\n",
       " 14289884.042446043,\n",
       " 18516186.042446043]"
      ]
     },
     "execution_count": 77,
     "metadata": {},
     "output_type": "execute_result"
    }
   ],
   "source": [
    "# Y values for ploting (Calculating Profit By Months)\n",
    "Yprofit = []\n",
    "YGS = []\n",
    "for mon in Xmonth:\n",
    "    totalProfit = 0\n",
    "    totalGS = 0\n",
    "    for index in range(0,df.shape[0]):\n",
    "        if(df[\"Month Name\"][index][0:3]==mon):\n",
    "            totalProfit=totalProfit+df[\"Profit\"][index]\n",
    "        if(df[\"Month Name\"][index][0:3]==mon):\n",
    "            totalGS=totalGS+df[\"Gross Sales\"][index]\n",
    "    Yprofit.append(totalProfit)\n",
    "    YGS.append(totalGS)\n",
    "Yprofit\n",
    "YGS"
   ]
  },
  {
   "cell_type": "code",
   "execution_count": 85,
   "id": "e3876722-3b31-4bbb-a47c-1a88ddd90108",
   "metadata": {},
   "outputs": [
    {
     "data": {
      "image/png": "[encoded data removed]",
      "text/plain": [
       "<Figure size 640x480 with 2 Axes>"
      ]
     },
     "metadata": {},
     "output_type": "display_data"
    }
   ],
   "source": [
    "plt.subplot(2,1,1)\n",
    "plt.bar(Xmonth,Yprofit)\n",
    "plt.title(\"Profit By Months\")\n",
    "plt.subplot(2,1,2)\n",
    "plt.bar(Xmonth,YGS)\n",
    "plt.title(\"Gross Sale By Months\")\n",
    "plt.show()"
   ]
  },
  {
   "cell_type": "code",
   "execution_count": 91,
   "id": "c2f4bf4a-0b16-4be5-b42d-a08e24cc729a",
   "metadata": {},
   "outputs": [
    {
     "data": {
      "image/png": "[encoded data removed]",
      "text/plain": [
       "<Figure size 640x480 with 1 Axes>"
      ]
     },
     "metadata": {},
     "output_type": "display_data"
    }
   ],
   "source": [
    "# Profit Percentage\n",
    "profit = sum(Yprofit)/sum(YGS)*100\n",
    "Expence = 100-profit\n",
    "plt.pie([profit,Expence])\n",
    "plt.title(\"Profit And Expence\")\n",
    "plt.show()"
   ]
  }
 ],
 "metadata": {
  "kernelspec": {
   "display_name": "Python 3 (ipykernel)",
   "language": "python",
   "name": "python3"
  },
  "language_info": {
   "codemirror_mode": {
    "name": "ipython",
    "version": 3
   },
   "file_extension": ".py",
   "mimetype": "text/x-python",
   "name": "python",
   "nbconvert_exporter": "python",
   "pygments_lexer": "ipython3",
   "version": "3.12.1"
  }
 },
 "nbformat": 4,
 "nbformat_minor": 5
}
